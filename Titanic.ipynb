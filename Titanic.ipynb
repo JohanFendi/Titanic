{
  "nbformat": 4,
  "nbformat_minor": 0,
  "metadata": {
    "colab": {
      "provenance": [],
      "authorship_tag": "ABX9TyPV16LRevYWqimkkRXRjOQZ",
      "include_colab_link": true
    },
    "kernelspec": {
      "name": "python3",
      "display_name": "Python 3"
    },
    "language_info": {
      "name": "python"
    }
  },
  "cells": [
    {
      "cell_type": "markdown",
      "metadata": {
        "id": "view-in-github",
        "colab_type": "text"
      },
      "source": [
        "<a href=\"https://colab.research.google.com/github/JohanFendi/Titanic/blob/main/Titanic.ipynb\" target=\"_parent\"><img src=\"https://colab.research.google.com/assets/colab-badge.svg\" alt=\"Open In Colab\"/></a>"
      ]
    },
    {
      "cell_type": "code",
      "execution_count": 28,
      "metadata": {
        "id": "81fYt4hlcF3D"
      },
      "outputs": [],
      "source": [
        "from pathlib import Path\n",
        "import pandas as pd\n",
        "import tarfile\n",
        "import urllib.request\n",
        "import numpy as np\n",
        "import matplotlib.pyplot as plt\n",
        "\n",
        "\n",
        "url = \"https://homl.info/titanic.tgz\"\n",
        "path = \"datasets/titanic.tgz\"\n",
        "\n",
        "def load_data(url, path, dir_name):\n",
        "  file_path = Path(path)\n",
        "  if not file_path.is_file():\n",
        "    Path(dir_name).mkdir(exist_ok=True,parents=True)\n",
        "    respons = urllib.request.urlretrieve(url, file_path)\n",
        "    with tarfile.open(file_path) as data_tarball:\n",
        "      data_tarball.extractall(path=dir)\n",
        "\n",
        "\n",
        "def get_titanic_data():\n",
        "  return pd.read_csv(Path(\"datasets/titanic/test.csv\")), pd.read_csv(Path(\"datasets/titanic/train.csv\"))\n",
        "\n",
        "test, train = get_titanic_data()\n",
        "\n",
        ""
      ]
    },
    {
      "cell_type": "code",
      "source": [
        "print(train.info())\n",
        "print(train.head())\n",
        "print(train[\"Embarked\"].value_counts())"
      ],
      "metadata": {
        "colab": {
          "base_uri": "https://localhost:8080/"
        },
        "id": "J2faPYqyg82E",
        "outputId": "3f942b74-38cb-4bb1-84ca-080e3c5b478a"
      },
      "execution_count": 48,
      "outputs": [
        {
          "output_type": "stream",
          "name": "stdout",
          "text": [
            "<class 'pandas.core.frame.DataFrame'>\n",
            "RangeIndex: 891 entries, 0 to 890\n",
            "Data columns (total 12 columns):\n",
            " #   Column       Non-Null Count  Dtype  \n",
            "---  ------       --------------  -----  \n",
            " 0   PassengerId  891 non-null    int64  \n",
            " 1   Survived     891 non-null    int64  \n",
            " 2   Pclass       891 non-null    int64  \n",
            " 3   Name         891 non-null    object \n",
            " 4   Sex          891 non-null    object \n",
            " 5   Age          714 non-null    float64\n",
            " 6   SibSp        891 non-null    int64  \n",
            " 7   Parch        891 non-null    int64  \n",
            " 8   Ticket       891 non-null    object \n",
            " 9   Fare         891 non-null    float64\n",
            " 10  Cabin        204 non-null    object \n",
            " 11  Embarked     889 non-null    object \n",
            "dtypes: float64(2), int64(5), object(5)\n",
            "memory usage: 83.7+ KB\n",
            "None\n",
            "   PassengerId  Survived  Pclass  \\\n",
            "0            1         0       3   \n",
            "1            2         1       1   \n",
            "2            3         1       3   \n",
            "3            4         1       1   \n",
            "4            5         0       3   \n",
            "\n",
            "                                                Name     Sex   Age  SibSp  \\\n",
            "0                            Braund, Mr. Owen Harris    male  22.0      1   \n",
            "1  Cumings, Mrs. John Bradley (Florence Briggs Th...  female  38.0      1   \n",
            "2                             Heikkinen, Miss. Laina  female  26.0      0   \n",
            "3       Futrelle, Mrs. Jacques Heath (Lily May Peel)  female  35.0      1   \n",
            "4                           Allen, Mr. William Henry    male  35.0      0   \n",
            "\n",
            "   Parch            Ticket     Fare Cabin Embarked  \n",
            "0      0         A/5 21171   7.2500   NaN        S  \n",
            "1      0          PC 17599  71.2833   C85        C  \n",
            "2      0  STON/O2. 3101282   7.9250   NaN        S  \n",
            "3      0            113803  53.1000  C123        S  \n",
            "4      0            373450   8.0500   NaN        S  \n",
            "Embarked\n",
            "S    644\n",
            "C    168\n",
            "Q     77\n",
            "Name: count, dtype: int64\n"
          ]
        }
      ]
    },
    {
      "cell_type": "code",
      "source": [
        "log_fare = np.log(train[\"Fare\"][train[\"Fare\"] > 0])\n",
        "plt.hist(log_fare, bins = 20)"
      ],
      "metadata": {
        "colab": {
          "base_uri": "https://localhost:8080/",
          "height": 569
        },
        "id": "gGChVWWNmyIa",
        "outputId": "fa694bd6-4033-43fc-fd5c-2cbdbb74703e"
      },
      "execution_count": 47,
      "outputs": [
        {
          "output_type": "execute_result",
          "data": {
            "text/plain": [
              "(array([  2.,   5., 267.,  75.,  65.,  67.,  39., 104.,  58.,  23.,  46.,\n",
              "         28.,  44.,  11.,  17.,   5.,  11.,   6.,   0.,   3.]),\n",
              " array([1.38941449, 1.63189213, 1.87436978, 2.11684742, 2.35932507,\n",
              "        2.60180271, 2.84428036, 3.086758  , 3.32923565, 3.57171329,\n",
              "        3.81419094, 4.05666858, 4.29914623, 4.54162387, 4.78410152,\n",
              "        5.02657916, 5.26905681, 5.51153445, 5.7540121 , 5.99648974,\n",
              "        6.23896739]),\n",
              " <BarContainer object of 20 artists>)"
            ]
          },
          "metadata": {},
          "execution_count": 47
        },
        {
          "output_type": "display_data",
          "data": {
            "text/plain": [
              "<Figure size 640x480 with 1 Axes>"
            ],
            "image/png": "[encoded data removed]"
          },
          "metadata": {}
        }
      ]
    }
  ]
}